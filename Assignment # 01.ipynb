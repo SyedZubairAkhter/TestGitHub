{
 "cells": [
  {
   "cell_type": "code",
   "execution_count": 15,
   "metadata": {},
   "outputs": [
    {
     "name": "stdout",
     "output_type": "stream",
     "text": [
      "TOTAL MARKS: 700\n",
      "OBTAINED MARKS: 548\n",
      "RESULT: 'PASSED'\n",
      "PERCENTAGE: 78.28571428571428\n",
      "GRADE: 'B'\n",
      "REMARK : ''GOOD''\n"
     ]
    }
   ],
   "source": [
    "English =100\n",
    "Urdu = 67\n",
    "Math = 76\n",
    "Science =89\n",
    "Social_Studies =74 \n",
    "Computer = 76\n",
    "Islamiat =66\n",
    "Result = \"FAILED\"\n",
    "Total= 700\n",
    "print(\"TOTAL MARKS:\", Total)\n",
    "Marks_Obtained = English + Urdu + Math + Science + Social_Studies + Computer + Islamiat\n",
    "print(\"OBTAINED MARKS:\", Marks_Obtained)\n",
    "if 100 >= English > 45 and 100 >= Urdu > 40 and 100 >= Math > 60 and 100 >= Science > 60 and 100 >= Social_Studies > 40 and 100 >= Computer > 40 and 100 >= Islamiat > 40:\n",
    "    Result = \"'PASSED'\"  \n",
    "print(\"RESULT:\", Result)\n",
    "per = (Marks_Obtained/Total)*100\n",
    "print(\"PERCENTAGE:\", per)\n",
    "if per >= 90: grade = \"'A+'\"\n",
    "elif per >= 80: grade = \"'A'\"\n",
    "elif per >= 70: grade = \"'B'\"\n",
    "elif per >= 60: grade = \"'C'\"\n",
    "elif per < 60: grade = \"'F'\"\n",
    "print(\"GRADE:\", grade)\n",
    "if per >= 90: rem = \"'EXCELLENT'\"\n",
    "elif per >= 80: rem = \"''V.GOOD''\"\n",
    "elif per >= 70: rem = \"''GOOD''\"\n",
    "elif per >= 60: rem = \"''SATISFACTORY''\"\n",
    "elif per < 60: rem = \"------\"\n",
    "print(\"REMARK :\", rem)"
   ]
  },
  {
   "cell_type": "code",
   "execution_count": null,
   "metadata": {},
   "outputs": [],
   "source": []
  },
  {
   "cell_type": "code",
   "execution_count": null,
   "metadata": {},
   "outputs": [],
   "source": []
  }
 ],
 "metadata": {
  "kernelspec": {
   "display_name": "Python 3",
   "language": "python",
   "name": "python3"
  },
  "language_info": {
   "codemirror_mode": {
    "name": "ipython",
    "version": 3
   },
   "file_extension": ".py",
   "mimetype": "text/x-python",
   "name": "python",
   "nbconvert_exporter": "python",
   "pygments_lexer": "ipython3",
   "version": "3.7.3"
  }
 },
 "nbformat": 4,
 "nbformat_minor": 2
}
